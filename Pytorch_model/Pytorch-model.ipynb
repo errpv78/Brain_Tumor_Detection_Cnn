{
 "cells": [
  {
   "cell_type": "code",
   "execution_count": 1,
   "metadata": {},
   "outputs": [
    {
     "name": "stdout",
     "output_type": "stream",
     "text": [
      "True\n",
      "Training on GPU\n",
      "1\n"
     ]
    }
   ],
   "source": [
    "import torch\n",
    "import numpy as np\n",
    "\n",
    "# Checking GPU Availability\n",
    "is_gpu_available = torch.cuda.is_available()\n",
    "# Returns a bool indicating if CUDA is currently available.\n",
    "\n",
    "print(torch.cuda.is_available())\n",
    "if not is_gpu_available:\n",
    "    print(\"Training on CPU, cuda unavailable\")\n",
    "else:\n",
    "    print(\"Training on GPU\")\n",
    "    \n",
    "print(torch.cuda.device_count())    \n",
    "# Returns the number of GPUs available."
   ]
  },
  {
   "cell_type": "code",
   "execution_count": 5,
   "metadata": {},
   "outputs": [
    {
     "name": "stdout",
     "output_type": "stream",
     "text": [
      "195 <class 'torchvision.datasets.folder.ImageFolder'>\n",
      "50\n"
     ]
    }
   ],
   "source": [
    "from torchvision.datasets import ImageFolder\n",
    "from torchvision import transforms\n",
    "from torch.utils.data import DataLoader\n",
    "import matplotlib.pyplot as plt\n",
    "from os import getcwd\n",
    "\n",
    "\n",
    "transform = transforms.Compose([\n",
    "    transforms.Resize(128),\n",
    "    transforms.CenterCrop(128),\n",
    "    transforms.ToTensor(),\n",
    "    transforms.Normalize((0.5,),(0.5,))\n",
    "    # the mean and std have to be sequences (e.g., tuples), therefore \n",
    "    # you should add a comma after the values.\n",
    "])\n",
    "\n",
    "curr_dir = getcwd()\n",
    "curr_dir = curr_dir[:-13]\n",
    "curr_dir+= \"Data\"\n",
    "train_dir = curr_dir+\"/train\"\n",
    "test_dir = curr_dir+\"/test\"\n",
    "\n",
    "train_data = ImageFolder(root=train_dir, transform=transform)\n",
    "print(len(train_data),type(train_data))\n",
    "train_data_loader = DataLoader(train_data, batch_size=5, shuffle=True)\n",
    "\n",
    "test_data = ImageFolder(root=test_dir, transform=transform)\n",
    "test_data_loader = DataLoader(test_data, batch_size=5, shuffle=True)\n",
    "print(len(test_data))"
   ]
  },
  {
   "cell_type": "code",
   "execution_count": 6,
   "metadata": {},
   "outputs": [
    {
     "name": "stderr",
     "output_type": "stream",
     "text": [
      "Clipping input data to the valid range for imshow with RGB data ([0..1] for floats or [0..255] for integers).\n"
     ]
    },
    {
     "name": "stdout",
     "output_type": "stream",
     "text": [
      "torch.Size([5, 3, 128, 128])\n",
      "torch.Size([5])\n",
      "128\n",
      "1\n"
     ]
    },
    {
     "data": {
      "image/png": "[encoded data removed]",
      "text/plain": [
       "<Figure size 432x288 with 1 Axes>"
      ]
     },
     "metadata": {
      "needs_background": "light"
     },
     "output_type": "display_data"
    }
   ],
   "source": [
    "dataiter = iter(train_data_loader)\n",
    "images, labels = dataiter.next()\n",
    "print(images.shape)\n",
    "print(labels.shape)\n",
    "\n",
    "img = images[1]\n",
    "img = img.permute(1, 2, 0)\n",
    "print(len(img))\n",
    "\n",
    "plt.imshow(img, cmap='Greys_r')\n",
    "print(labels[1].item())"
   ]
  },
  {
   "cell_type": "code",
   "execution_count": 7,
   "metadata": {},
   "outputs": [
    {
     "name": "stdout",
     "output_type": "stream",
     "text": [
      "Network(\n",
      "  (conv1): Conv2d(3, 64, kernel_size=(3, 3), stride=(1, 1), padding=(1, 1))\n",
      "  (conv2): Conv2d(64, 128, kernel_size=(3, 3), stride=(1, 1), padding=(1, 1))\n",
      "  (conv3): Conv2d(128, 64, kernel_size=(3, 3), stride=(1, 1), padding=(1, 1))\n",
      "  (conv4): Conv2d(64, 16, kernel_size=(3, 3), stride=(1, 1), padding=(1, 1))\n",
      "  (pool): MaxPool2d(kernel_size=3, stride=2, padding=1, dilation=1, ceil_mode=False)\n",
      "  (fc1): Linear(in_features=1024, out_features=64, bias=True)\n",
      "  (fc2): Linear(in_features=64, out_features=2, bias=True)\n",
      "  (dropout): Dropout(p=0.25, inplace=False)\n",
      ")\n",
      "Training on GPU\n"
     ]
    }
   ],
   "source": [
    "# Model definition\n",
    "import torch.nn as nn\n",
    "import torch.nn.functional as F\n",
    "\n",
    "# CNN architecture\n",
    "class Network(nn.Module):\n",
    "    def __init__(self):\n",
    "        super(Network, self).__init__()\n",
    "        \n",
    "        self.conv1 = nn.Conv2d(in_channels=3, out_channels=64, kernel_size=3, padding=1)\n",
    "        self.conv2 = nn.Conv2d(64, 128, 3, padding=1)\n",
    "        # input (8*8*32 tensor)\n",
    "        self.conv3 = nn.Conv2d(128, 64, 3, padding=1)\n",
    "        self.conv4 = nn.Conv2d(64, 16, 3, padding=1)\n",
    "        # maxpooling layer\n",
    "        self.pool = nn.MaxPool2d(kernel_size=3, stride=2, padding=1)\n",
    "        # fully connected layer\n",
    "        self.fc1 = nn.Linear(16*8*8, 64)\n",
    "        # 64*4*4- input features; 500- output features\n",
    "        self.fc2 = nn.Linear(64, 2)\n",
    "        \n",
    "        # dropout layer\n",
    "        self.dropout = nn.Dropout(0.25)\n",
    "        \n",
    "    def forward(self, x):\n",
    "        x = self.pool(F.relu(self.conv1(x)))\n",
    "        \n",
    "        x = self.pool(F.relu(self.conv2(x)))\n",
    "        x = self.pool(F.relu(self.conv3(x)))\n",
    "        x = self.pool(F.relu(self.conv4(x)))\n",
    "        x = x.view(-1, 16*8*8)\n",
    "        \n",
    "        x = self.dropout(x)\n",
    "        x = F.relu(self.fc1(x))\n",
    "        x = self.dropout(x)\n",
    "        x = self.fc2(x)\n",
    "        return x\n",
    "    \n",
    "model = Network()    \n",
    "print(model)\n",
    "\n",
    "# training on GPU\n",
    "if is_gpu_available:\n",
    "    print(\"Training on GPU\")\n",
    "    model.cuda()"
   ]
  },
  {
   "cell_type": "code",
   "execution_count": 8,
   "metadata": {},
   "outputs": [],
   "source": [
    "import torch.optim as optim\n",
    "\n",
    "criterion = nn.CrossEntropyLoss()\n",
    "optimizer = optim.Adam(model.parameters(), lr=0.001)"
   ]
  },
  {
   "cell_type": "code",
   "execution_count": 9,
   "metadata": {},
   "outputs": [
    {
     "name": "stdout",
     "output_type": "stream",
     "text": [
      "Epoch: 1 \tTraining Loss: 3.489788 \t\n",
      "Epoch: 2 \tTraining Loss: 3.184203 \t\n",
      "Epoch: 3 \tTraining Loss: 3.152876 \t\n",
      "Training time -  11.129617691040039\n"
     ]
    }
   ],
   "source": [
    "# Training the network\n",
    "import time\n",
    "\n",
    "num_epochs = 3\n",
    "\n",
    "start_time = time.time()\n",
    "model.train()\n",
    "for epoch in range(num_epochs):\n",
    "    \n",
    "    train_loss = 0\n",
    "    \n",
    "    for (images, labels) in train_data_loader:\n",
    "        if is_gpu_available:\n",
    "            images, labels = images.cuda(), labels.cuda()\n",
    "        optimizer.zero_grad()    \n",
    "        # Clears the gradients of all optimized torch.Tensor s.\n",
    "        \n",
    "        output = model(images)\n",
    "        loss = criterion(output, labels)\n",
    "        \n",
    "        \n",
    "        loss.backward()\n",
    "        optimizer.step()\n",
    "\n",
    "        train_loss += loss.item()*images.size(0)\n",
    "\n",
    "    train_loss = train_loss/len(train_data_loader)\n",
    "    \n",
    "    print('Epoch: {} \\tTraining Loss: {:.6f} \\t'.format(\n",
    "        epoch+1, train_loss, ))\n",
    "    \n",
    "\n",
    "end_time = time.time()        \n",
    "print(\"Training time - \",(end_time-start_time))"
   ]
  },
  {
   "cell_type": "code",
   "execution_count": null,
   "metadata": {},
   "outputs": [],
   "source": [
    "target_classes = ['NO', 'YES']\n",
    "# Testing network\n",
    "test_loss = 0\n",
    "correct_class = list(0 for i in range(2))\n",
    "total_class_labels = list(0 for i in range(2))\n",
    "\n",
    "model.eval()\n",
    "\n",
    "start = time.time()\n",
    "for (images, labels) in test_data_loader:\n",
    "    if is_gpu_available:\n",
    "        images, labels = images.cuda(), labels.cuda()\n",
    "    output = model(images)    \n",
    "    loss = criterion(output, labels)\n",
    "    test_loss += loss.item()*images.size(0)\n",
    "    \n",
    "    # converting output probabilities to predicted class\n",
    "    _, pred = torch.max(output, 1)\n",
    "    \n",
    "    # comparing model output and true labels\n",
    "    correct_labels = pred.eq(labels.data.view_as(pred))\n",
    "    correct = np.squeeze(correct_labels.numpy()) if not is_gpu_available else np.squeeze(correct_labels.cpu().numpy())\n",
    "    \n",
    "    for i in range(5):\n",
    "        label = labels.data[i]\n",
    "        correct_class[label] += correct[i].item()\n",
    "        total_class_labels[label] += 1\n",
    "    \n",
    "# average test loss\n",
    "test_loss = test_loss/len(test_data_loader)\n",
    "print('Test Loss: {:.6f}\\n'.format(test_loss))\n",
    "\n",
    "for i in range(2):\n",
    "    if total_class_labels[i] > 0:\n",
    "        print('Test Accuracy of %5s: %2d%% (%2d/%2d)' % (\n",
    "            target_classes[i], 100 * correct_class[i] / total_class_labels[i],\n",
    "            np.sum(correct_class[i]), np.sum(total_class_labels[i])))\n",
    "    else:\n",
    "        print('Test Accuracy of %5s: N/A (no training examples)' % (target_classes[i]))\n",
    "\n",
    "print('\\nTest Accuracy (Overall): %2d%% (%2d/%2d)' % (\n",
    "    100. * np.sum(correct_class) / np.sum(total_class_labels),\n",
    "    np.sum(correct_class), np.sum(total_class_labels)))\n",
    "\n",
    "end_time = time.time()\n",
    "print(\"Testing time - \",(end_time-start_time))\n",
    "\n",
    "\"\"\"Results: \n",
    "Epoch: 1 \tTraining Loss: 3.168067 \t\n",
    "Epoch: 2 \tTraining Loss: 3.302139 \t\n",
    "Epoch: 3 \tTraining Loss: 3.248841 \t\n",
    "Epoch: 4 \tTraining Loss: 3.216859 \t\n",
    "Epoch: 5 \tTraining Loss: 2.836319 \t\n",
    "Epoch: 6 \tTraining Loss: 2.895915 \t\n",
    "Epoch: 7 \tTraining Loss: 2.708497 \t\n",
    "Epoch: 8 \tTraining Loss: 2.478483 \t\n",
    "Epoch: 9 \tTraining Loss: 2.404660 \t\n",
    "Epoch: 10 \tTraining Loss: 2.297764 \t\n",
    "Epoch: 11 \tTraining Loss: 1.820053 \t\n",
    "Epoch: 12 \tTraining Loss: 1.680200 \t\n",
    "Epoch: 13 \tTraining Loss: 1.451695 \t\n",
    "Epoch: 14 \tTraining Loss: 1.308168 \t\n",
    "Epoch: 15 \tTraining Loss: 1.838681 \t\n",
    "Epoch: 16 \tTraining Loss: 1.215729 \t\n",
    "Epoch: 17 \tTraining Loss: 1.207196 \t\n",
    "Epoch: 18 \tTraining Loss: 1.251729 \t\n",
    "Epoch: 19 \tTraining Loss: 0.895807 \t\n",
    "Epoch: 20 \tTraining Loss: 0.800071 \t\n",
    "Epoch: 21 \tTraining Loss: 0.592235 \t\n",
    "Epoch: 22 \tTraining Loss: 0.632423 \t\n",
    "Epoch: 23 \tTraining Loss: 1.143361 \t\n",
    "Epoch: 24 \tTraining Loss: 0.673407 \t\n",
    "Epoch: 25 \tTraining Loss: 0.743935 \t\n",
    "Epoch: 26 \tTraining Loss: 0.573325 \t\n",
    "Epoch: 27 \tTraining Loss: 0.402170 \t\n",
    "Epoch: 28 \tTraining Loss: 0.489517 \t\n",
    "Epoch: 29 \tTraining Loss: 0.738855 \t\n",
    "Epoch: 30 \tTraining Loss: 0.313810 \t\n",
    "Training time -  88.00768709182739\n",
    "\n",
    "Test Loss: 6.908235\n",
    "\n",
    "Test Accuracy of    NO: 66% (10/15)\n",
    "Test Accuracy of   YES: 82% (29/35)\n",
    "\n",
    "Test Accuracy (Overall): 78% (39/50)\n",
    "Testing time -  249.61655139923096\"\"\""
   ]
  }
 ],
 "metadata": {
  "kernelspec": {
   "display_name": "Python 3",
   "language": "python",
   "name": "python3"
  },
  "language_info": {
   "codemirror_mode": {
    "name": "ipython",
    "version": 3
   },
   "file_extension": ".py",
   "mimetype": "text/x-python",
   "name": "python",
   "nbconvert_exporter": "python",
   "pygments_lexer": "ipython3",
   "version": "3.7.5"
  }
 },
 "nbformat": 4,
 "nbformat_minor": 2
}
