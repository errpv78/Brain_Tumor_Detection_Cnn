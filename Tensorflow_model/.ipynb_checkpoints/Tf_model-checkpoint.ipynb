{
 "cells": [
  {
   "cell_type": "code",
   "execution_count": 8,
   "metadata": {},
   "outputs": [
    {
     "name": "stdout",
     "output_type": "stream",
     "text": [
      "/home/err_pv/Desktop/Parikh_linux/Deep Learning/Projects/Brain_Tumor_Detection_Cnn/Data/train\n"
     ]
    }
   ],
   "source": [
    "import matplotlib.pyplot as plt\n",
    "from os import getcwd\n",
    "import os\n",
    "import cv2\n",
    "import numpy as np\n",
    "\n",
    "curr_dir = getcwd()\n",
    "curr_dir = curr_dir[:-16]\n",
    "curr_dir += \"Data\"\n",
    "\n",
    "train_DATADIR = curr_dir+\"/train\"\n",
    "test_DATADIR = curr_dir+\"/test\"\n",
    "print(train_DATADIR)\n",
    "\n",
    "CATEGORIES = [\"no\", \"yes\"]"
   ]
  },
  {
   "cell_type": "code",
   "execution_count": 9,
   "metadata": {},
   "outputs": [
    {
     "name": "stdout",
     "output_type": "stream",
     "text": [
      "195\n",
      "50 [array([[ 45,  50,  44, ...,  44,  44,  44],\n",
      "       [  9,   8,   4, ...,   0,   0,   0],\n",
      "       [  2, 112,  96, ...,   0,   0,   0],\n",
      "       ...,\n",
      "       [  0,   0,   0, ...,   6,   6,   7],\n",
      "       [  0,   0,   0, ...,   3,   3,   2],\n",
      "       [  0,   0,   0, ...,   1,   1,   2]], dtype=uint8), 0]\n"
     ]
    }
   ],
   "source": [
    "# Creating Training Data\n",
    "train_data = []\n",
    "test_data = []\n",
    "IMG_SIZE = 128\n",
    "\n",
    "def create_training_data(DATADIR, data):\n",
    "    for category in CATEGORIES:  \n",
    "\n",
    "        path = os.path.join(DATADIR,category)  \n",
    "        # create path to train data folders no, yes\n",
    "        \n",
    "        class_num = CATEGORIES.index(category)  \n",
    "        # get the classification  (0 or a 1). 0=NO 1=YES\n",
    "\n",
    "        for img in (os.listdir(path)):  \n",
    "            # iterate over each image \n",
    "            try:\n",
    "                # convert to array\n",
    "                img_array = cv2.imread(os.path.join(path,img) ,cv2.IMREAD_GRAYSCALE)  \n",
    "\n",
    "                # resize to normalize data size\n",
    "                new_array = cv2.resize(img_array, (IMG_SIZE, IMG_SIZE))  \n",
    "\n",
    "                # add this to our training_data\n",
    "                data.append([new_array, class_num])  \n",
    "            except Exception as e:  \n",
    "                pass\n",
    "\n",
    "create_training_data(train_DATADIR, train_data)\n",
    "create_training_data(test_DATADIR, test_data)\n",
    "\n",
    "\n",
    "print(len(train_data))\n",
    "print(len(test_data),test_data[0])\n"
   ]
  },
  {
   "cell_type": "code",
   "execution_count": 10,
   "metadata": {},
   "outputs": [
    {
     "name": "stdout",
     "output_type": "stream",
     "text": [
      "0\n",
      "0\n",
      "0\n",
      "0\n",
      "0\n",
      "0\n",
      "0\n",
      "0\n",
      "0\n",
      "0\n"
     ]
    }
   ],
   "source": [
    "for sample in train_data[:10]:\n",
    "    print(sample[1])"
   ]
  },
  {
   "cell_type": "code",
   "execution_count": 11,
   "metadata": {},
   "outputs": [
    {
     "name": "stdout",
     "output_type": "stream",
     "text": [
      "1\n",
      "0\n",
      "0\n",
      "1\n",
      "0\n",
      "1\n",
      "1\n",
      "1\n",
      "0\n",
      "0\n"
     ]
    }
   ],
   "source": [
    "import random\n",
    "\n",
    "random.shuffle(train_data)\n",
    "\n",
    "for sample in train_data[:10]:\n",
    "    print(sample[1])"
   ]
  },
  {
   "cell_type": "code",
   "execution_count": 12,
   "metadata": {},
   "outputs": [
    {
     "name": "stdout",
     "output_type": "stream",
     "text": [
      "(128, 128, 1)\n"
     ]
    }
   ],
   "source": [
    "train_X = []\n",
    "test_X = []\n",
    "train_y = []\n",
    "test_y = []\n",
    "\n",
    "for features,label in train_data:\n",
    "    train_X.append(features)\n",
    "    train_y.append(label)\n",
    "\n",
    "for features,label in test_data:\n",
    "    test_X.append(features)\n",
    "    test_y.append(label)\n",
    "    \n",
    "\n",
    "train_X = np.array(train_X).reshape(-1, IMG_SIZE, IMG_SIZE, 1)\n",
    "test_X = np.array(test_X).reshape(-1, IMG_SIZE, IMG_SIZE, 1)\n",
    "\n",
    "print(train_X[0].shape)"
   ]
  },
  {
   "cell_type": "code",
   "execution_count": 13,
   "metadata": {},
   "outputs": [],
   "source": [
    "import pickle\n",
    "\n",
    "pickle_out = open(\"train_X.pickle\",\"wb\")\n",
    "pickle.dump(train_X, pickle_out)\n",
    "pickle_out.close()\n",
    "\n",
    "pickle_out = open(\"train_y.pickle\",\"wb\")\n",
    "pickle.dump(train_y, pickle_out)\n",
    "pickle_out.close()\n",
    "\n",
    "pickle_out = open(\"test_X.pickle\",\"wb\")\n",
    "pickle.dump(test_X, pickle_out)\n",
    "pickle_out.close()\n",
    "\n",
    "pickle_out = open(\"test_y.pickle\",\"wb\")\n",
    "pickle.dump(test_y, pickle_out)\n",
    "pickle_out.close()\n",
    "\n"
   ]
  },
  {
   "cell_type": "code",
   "execution_count": 1,
   "metadata": {},
   "outputs": [
    {
     "name": "stdout",
     "output_type": "stream",
     "text": [
      "(195, 128, 128, 1) 195\n"
     ]
    }
   ],
   "source": [
    "# Model definition and training\n",
    "\n",
    "import tensorflow as tf\n",
    "from tensorflow.keras.models import Sequential\n",
    "from tensorflow.keras.layers import Dense, Dropout, Activation, Flatten\n",
    "from tensorflow.keras.layers import Conv2D, MaxPooling2D\n",
    "from tensorflow.keras.utils import normalize\n",
    "from tensorflow.keras.callbacks import TensorBoard\n",
    "import numpy as np\n",
    "import time\n",
    "import pickle\n",
    "\n",
    "Name = \"Brain-Tumor-4-2-64-128-64-16-64-16->{}\".format(int(time.time()))\n",
    "tb = TensorBoard(log_dir='logs/{}'.format(Name))\n",
    "\n",
    "\n",
    "pickle_in = open(\"train_X.pickle\",\"rb\")\n",
    "train_X = pickle.load(pickle_in)\n",
    "\n",
    "pickle_in = open(\"train_y.pickle\",\"rb\")\n",
    "train_y = pickle.load(pickle_in)\n",
    "train_y = np.array(train_y)\n",
    "\n",
    "pickle_in = open(\"test_X.pickle\",\"rb\")\n",
    "test_X = pickle.load(pickle_in)\n",
    "\n",
    "pickle_in = open(\"test_y.pickle\",\"rb\")\n",
    "test_y = pickle.load(pickle_in)\n",
    "test_y = np.array(test_y)\n",
    "\n",
    "train_X = normalize(train_X, axis=1)\n",
    "test_X = normalize(test_X, axis=1)\n",
    "\n",
    "model = Sequential()\n",
    "\n",
    "print(train_X.shape,len(train_X))"
   ]
  },
  {
   "cell_type": "code",
   "execution_count": 2,
   "metadata": {},
   "outputs": [
    {
     "name": "stdout",
     "output_type": "stream",
     "text": [
      "done\n"
     ]
    }
   ],
   "source": [
    "import tensorflow as tf\n",
    "physical_devices = tf.config.experimental.list_physical_devices(\"GPU\")\n",
    "tf.config.experimental.set_memory_growth(physical_devices[0], True)\n",
    "print(\"done\")"
   ]
  },
  {
   "cell_type": "code",
   "execution_count": 3,
   "metadata": {
    "scrolled": false
   },
   "outputs": [
    {
     "name": "stdout",
     "output_type": "stream",
     "text": [
      "Model: \"sequential\"\n",
      "_________________________________________________________________\n",
      "Layer (type)                 Output Shape              Param #   \n",
      "=================================================================\n",
      "conv2d (Conv2D)              (None, 128, 128, 64)      640       \n",
      "_________________________________________________________________\n",
      "activation (Activation)      (None, 128, 128, 64)      0         \n",
      "_________________________________________________________________\n",
      "max_pooling2d (MaxPooling2D) (None, 64, 64, 64)        0         \n",
      "_________________________________________________________________\n",
      "conv2d_1 (Conv2D)            (None, 64, 64, 64)        36928     \n",
      "_________________________________________________________________\n",
      "activation_1 (Activation)    (None, 64, 64, 64)        0         \n",
      "_________________________________________________________________\n",
      "max_pooling2d_1 (MaxPooling2 (None, 32, 32, 64)        0         \n",
      "_________________________________________________________________\n",
      "conv2d_2 (Conv2D)            (None, 32, 32, 16)        9232      \n",
      "_________________________________________________________________\n",
      "activation_2 (Activation)    (None, 32, 32, 16)        0         \n",
      "_________________________________________________________________\n",
      "max_pooling2d_2 (MaxPooling2 (None, 16, 16, 16)        0         \n",
      "_________________________________________________________________\n",
      "flatten (Flatten)            (None, 4096)              0         \n",
      "_________________________________________________________________\n",
      "dense (Dense)                (None, 16)                65552     \n",
      "_________________________________________________________________\n",
      "activation_3 (Activation)    (None, 16)                0         \n",
      "_________________________________________________________________\n",
      "dense_1 (Dense)              (None, 1)                 17        \n",
      "_________________________________________________________________\n",
      "activation_4 (Activation)    (None, 1)                 0         \n",
      "=================================================================\n",
      "Total params: 112,369\n",
      "Trainable params: 112,369\n",
      "Non-trainable params: 0\n",
      "_________________________________________________________________\n"
     ]
    }
   ],
   "source": [
    "model.add(Conv2D(64, (3, 3), input_shape= (128,128,1),padding=\"same\"))\n",
    "model.add(Activation('relu'))\n",
    "model.add(MaxPooling2D(pool_size=(2, 2)))\n",
    "\n",
    "\n",
    "model.add(Conv2D(64, (3, 3), padding=\"same\"))\n",
    "model.add(Activation('relu'))\n",
    "model.add(MaxPooling2D(pool_size=(2, 2)))\n",
    "\n",
    "model.add(Conv2D(16, (3, 3), padding=\"same\"))\n",
    "model.add(Activation('relu'))\n",
    "model.add(MaxPooling2D(pool_size=(2, 2)))\n",
    "\n",
    "\n",
    "model.add(Flatten())  # this converts our 3D feature maps to 1D feature vectors\n",
    "\n",
    "# model.add(Dense(16384))\n",
    "\n",
    "model.add(Dense(16))\n",
    "model.add(Activation('relu'))\n",
    "\n",
    "model.add(Dense(1))\n",
    "model.add(Activation('sigmoid'))\n",
    "\n",
    "model.compile(loss='binary_crossentropy',\n",
    "              optimizer='adam',\n",
    "              metrics=['accuracy'])\n",
    "\n",
    "model.summary()\n"
   ]
  },
  {
   "cell_type": "code",
   "execution_count": 4,
   "metadata": {},
   "outputs": [
    {
     "name": "stdout",
     "output_type": "stream",
     "text": [
      "Train on 195 samples, validate on 50 samples\n",
      "Epoch 1/10\n",
      "  5/195 [..............................] - ETA: 8:02 - loss: 0.7041 - accuracy: 0.2000WARNING:tensorflow:Method (on_train_batch_end) is slow compared to the batch update (0.113714). Check your callbacks.\n",
      "195/195 [==============================] - 14s 74ms/sample - loss: 0.6607 - accuracy: 0.6000 - val_loss: 0.5439 - val_accuracy: 0.7000\n",
      "Epoch 2/10\n",
      "195/195 [==============================] - 1s 8ms/sample - loss: 0.5862 - accuracy: 0.6154 - val_loss: 0.5987 - val_accuracy: 0.7000\n",
      "Epoch 3/10\n",
      "195/195 [==============================] - 1s 8ms/sample - loss: 0.5576 - accuracy: 0.7385 - val_loss: 0.5105 - val_accuracy: 0.8800\n",
      "Epoch 4/10\n",
      "195/195 [==============================] - 1s 7ms/sample - loss: 0.5157 - accuracy: 0.7487 - val_loss: 0.3873 - val_accuracy: 0.8600\n",
      "Epoch 5/10\n",
      "195/195 [==============================] - 1s 8ms/sample - loss: 0.4521 - accuracy: 0.8051 - val_loss: 0.5877 - val_accuracy: 0.6800\n",
      "Epoch 6/10\n",
      "195/195 [==============================] - 2s 8ms/sample - loss: 0.4034 - accuracy: 0.8256 - val_loss: 0.4736 - val_accuracy: 0.7800\n",
      "Epoch 7/10\n",
      "195/195 [==============================] - 1s 8ms/sample - loss: 0.3350 - accuracy: 0.8359 - val_loss: 0.4863 - val_accuracy: 0.7200\n",
      "Epoch 8/10\n",
      "195/195 [==============================] - 2s 8ms/sample - loss: 0.2768 - accuracy: 0.8769 - val_loss: 0.5370 - val_accuracy: 0.7400\n",
      "Epoch 9/10\n",
      "195/195 [==============================] - 1s 7ms/sample - loss: 0.1949 - accuracy: 0.9231 - val_loss: 0.8679 - val_accuracy: 0.7000\n",
      "Epoch 10/10\n",
      "195/195 [==============================] - 1s 8ms/sample - loss: 0.1397 - accuracy: 0.9333 - val_loss: 0.7970 - val_accuracy: 0.7800\n"
     ]
    },
    {
     "data": {
      "text/plain": [
       "<tensorflow.python.keras.callbacks.History at 0x7fb7a2c0c750>"
      ]
     },
     "execution_count": 4,
     "metadata": {},
     "output_type": "execute_result"
    }
   ],
   "source": [
    "model.fit(train_X, train_y, batch_size=5, epochs=10, validation_data=(test_X, test_y), callbacks=[tb])"
   ]
  },
  {
   "cell_type": "code",
   "execution_count": 5,
   "metadata": {},
   "outputs": [
    {
     "name": "stdout",
     "output_type": "stream",
     "text": [
      "WARNING:tensorflow:From /home/err_pv/anaconda3/envs/deep_learning/lib/python3.7/site-packages/tensorflow_core/python/ops/resource_variable_ops.py:1786: calling BaseResourceVariable.__init__ (from tensorflow.python.ops.resource_variable_ops) with constraint is deprecated and will be removed in a future version.\n",
      "Instructions for updating:\n",
      "If using Keras pass *_constraint arguments to layers.\n",
      "INFO:tensorflow:Assets written to: brain-tumor-cnn.model/assets\n"
     ]
    }
   ],
   "source": [
    "\"\"\"Train on 195 samples, validate on 50 samples\n",
    "Epoch 1/10\n",
    "  5/195 [..............................] - ETA: 8:02 - loss: 0.7041 - accuracy: 0.2000WARNING:tensorflow:Method (on_train_batch_end) is slow compared to the batch update (0.113714). Check your callbacks.\n",
    "195/195 [==============================] - 14s 74ms/sample - loss: 0.6607 - accuracy: 0.6000 - val_loss: 0.5439 - val_accuracy: 0.7000\n",
    "Epoch 2/10\n",
    "195/195 [==============================] - 1s 8ms/sample - loss: 0.5862 - accuracy: 0.6154 - val_loss: 0.5987 - val_accuracy: 0.7000\n",
    "Epoch 3/10\n",
    "195/195 [==============================] - 1s 8ms/sample - loss: 0.5576 - accuracy: 0.7385 - val_loss: 0.5105 - val_accuracy: 0.8800\n",
    "Epoch 4/10\n",
    "195/195 [==============================] - 1s 7ms/sample - loss: 0.5157 - accuracy: 0.7487 - val_loss: 0.3873 - val_accuracy: 0.8600\n",
    "Epoch 5/10\n",
    "195/195 [==============================] - 1s 8ms/sample - loss: 0.4521 - accuracy: 0.8051 - val_loss: 0.5877 - val_accuracy: 0.6800\n",
    "Epoch 6/10\n",
    "195/195 [==============================] - 2s 8ms/sample - loss: 0.4034 - accuracy: 0.8256 - val_loss: 0.4736 - val_accuracy: 0.7800\n",
    "Epoch 7/10\n",
    "195/195 [==============================] - 1s 8ms/sample - loss: 0.3350 - accuracy: 0.8359 - val_loss: 0.4863 - val_accuracy: 0.7200\n",
    "Epoch 8/10\n",
    "195/195 [==============================] - 2s 8ms/sample - loss: 0.2768 - accuracy: 0.8769 - val_loss: 0.5370 - val_accuracy: 0.7400\n",
    "Epoch 9/10\n",
    "195/195 [==============================] - 1s 7ms/sample - loss: 0.1949 - accuracy: 0.9231 - val_loss: 0.8679 - val_accuracy: 0.7000\n",
    "Epoch 10/10\n",
    "195/195 [==============================] - 1s 8ms/sample - loss: 0.1397 - accuracy: 0.9333 - val_loss: 0.7970 - val_accuracy: 0.7800\"\"\"\n",
    "\n",
    "model.save(\"brain-tumor-cnn.model\")\n",
    "\n",
    "# To run tensorboard --> tensorboard --gdir=logs/"
   ]
  },
  {
   "cell_type": "code",
   "execution_count": 6,
   "metadata": {},
   "outputs": [],
   "source": [
    "# Testing loaded model\n",
    "\n",
    "import cv2\n",
    "import tensorflow as tf\n",
    "from os import getcwd\n",
    "\n",
    "Categories = [\"no\", \"yes\"]\n",
    "\n",
    "curr_dir = getcwd()\n",
    "curr_dir = curr_dir[:-16]\n",
    "curr_dir += \"Data\"\n",
    "\n",
    "train_DATADIR = curr_dir+\"/google_images\"\n",
    "\n",
    "def prep_img(filepath):\n",
    "    IMG_SIZE = 128\n",
    "    img_arr = cv2.imread(filepath, cv2.IMREAD_GRAYSCALE)\n",
    "    new = cv2.resize(img_arr, (IMG_SIZE, IMG_SIZE))\n",
    "    return new.reshape(-1, IMG_SIZE, IMG_SIZE, 1)\n",
    "\n",
    "model = tf.keras.models.load_model(\"brain-tumor-cnn.model\")"
   ]
  },
  {
   "cell_type": "code",
   "execution_count": 8,
   "metadata": {},
   "outputs": [
    {
     "name": "stdout",
     "output_type": "stream",
     "text": [
      "yes\n",
      "no\n",
      "no\n",
      "yes\n"
     ]
    }
   ],
   "source": [
    "prediction = model.predict([prep_img(train_DATADIR+'/1.jpeg')])\n",
    "print(Categories[int(prediction[0][0])])\n",
    "prediction = model.predict([prep_img(train_DATADIR+'/2.jpeg')])\n",
    "print(Categories[int(prediction[0][0])])\n",
    "prediction = model.predict([prep_img(train_DATADIR+'/3.jpeg')])\n",
    "print(Categories[int(prediction[0][0])])\n",
    "prediction = model.predict([prep_img(train_DATADIR+'/4.jpeg')])\n",
    "print(Categories[int(prediction[0][0])])"
   ]
  },
  {
   "cell_type": "code",
   "execution_count": null,
   "metadata": {},
   "outputs": [],
   "source": []
  }
 ],
 "metadata": {
  "kernelspec": {
   "display_name": "Python 3",
   "language": "python",
   "name": "python3"
  },
  "language_info": {
   "codemirror_mode": {
    "name": "ipython",
    "version": 3
   },
   "file_extension": ".py",
   "mimetype": "text/x-python",
   "name": "python",
   "nbconvert_exporter": "python",
   "pygments_lexer": "ipython3",
   "version": "3.7.5"
  }
 },
 "nbformat": 4,
 "nbformat_minor": 2
}
